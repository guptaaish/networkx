{
 "cells": [
  {
   "cell_type": "code",
   "execution_count": 1,
   "metadata": {},
   "outputs": [],
   "source": [
    "import networkx as nx\n",
    "import matplotlib.pyplot as plt\n",
    "\n",
    "import random\n",
    "def gr(x):\n",
    "    counts = []\n",
    "    for i in range(20):\n",
    "        H = nx.Graph()\n",
    "        nodes = [i for i in range(1,x+1)]\n",
    "        H.add_nodes_from(nodes)\n",
    "        count = 0\n",
    "        while not nx.is_connected(H):\n",
    "            u = random.choice(nodes)\n",
    "            v = random.choice(nodes)\n",
    "            if (u!=v) and not H.has_edge(u,v):\n",
    "                H.add_edge(u,v)\n",
    "                count+=1\n",
    "        counts.append(count)\n",
    "    return sum(counts)/len(counts)\n",
    "\n",
    "x = []\n",
    "y = []\n",
    "for i in range(10,400,10):\n",
    "    x.append(i)\n",
    "    y.append(gr(i))\n",
    "    #print(gr(i))\n",
    "plt.plot(x,y)\n",
    "plt.show()"
   ]
  },
  {
   "cell_type": "code",
   "execution_count": null,
   "metadata": {},
   "outputs": [],
   "source": [
    "[i range(10,30,2)"
   ]
  },
  {
   "cell_type": "code",
   "execution_count": null,
   "metadata": {},
   "outputs": [],
   "source": []
  }
 ],
 "metadata": {
  "kernelspec": {
   "display_name": "Python 3",
   "language": "python",
   "name": "python3"
  },
  "language_info": {
   "codemirror_mode": {
    "name": "ipython",
    "version": 3
   },
   "file_extension": ".py",
   "mimetype": "text/x-python",
   "name": "python",
   "nbconvert_exporter": "python",
   "pygments_lexer": "ipython3",
   "version": "3.6.7"
  }
 },
 "nbformat": 4,
 "nbformat_minor": 2
}
